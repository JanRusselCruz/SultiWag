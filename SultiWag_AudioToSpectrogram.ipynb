{
  "cells": [
    {
      "cell_type": "markdown",
      "metadata": {
        "id": "view-in-github",
        "colab_type": "text"
      },
      "source": [
        "<a href=\"https://colab.research.google.com/github/JanRusselCruz/SultiWag/blob/Source_Code/SultiWag_AudioToSpectrogram.ipynb\" target=\"_parent\"><img src=\"https://colab.research.google.com/assets/colab-badge.svg\" alt=\"Open In Colab\"/></a>"
      ]
    },
    {
      "cell_type": "code",
      "execution_count": null,
      "metadata": {
        "id": "6vuOkZpZS9Fh"
      },
      "outputs": [],
      "source": [
        "import os\n",
        "from google.colab import drive\n",
        "drive.mount('/content/gdrive/', force_remount=True)"
      ]
    },
    {
      "cell_type": "code",
      "execution_count": null,
      "metadata": {
        "id": "vbByhC4wTB5-"
      },
      "outputs": [],
      "source": [
        "%cd /content/gdrive/MyDrive/SultiWag/AudioFiles"
      ]
    },
    {
      "cell_type": "code",
      "execution_count": null,
      "metadata": {
        "id": "CTuOz9jJTHf-"
      },
      "outputs": [],
      "source": [
        "audio_path = \"/content/gdrive/MyDrive/SultiWag/AudioFiles/03_ConsistentData_584/Kagan\"\n",
        "spectrogram_path = \"/content/gdrive/MyDrive/SultiWag/AudioFiles/02_Spectrograms/Consistent584_Spectrograms\""
      ]
    },
    {
      "cell_type": "code",
      "execution_count": null,
      "metadata": {
        "id": "KyrPlBImTMsb"
      },
      "outputs": [],
      "source": [
        "import librosa.display\n",
        "import numpy as np\n",
        "import matplotlib.pyplot as plt\n",
        "import wave, os, glob\n",
        "from tqdm import tqdm"
      ]
    },
    {
      "cell_type": "code",
      "execution_count": null,
      "metadata": {
        "id": "FGu880CBTNIf"
      },
      "outputs": [],
      "source": [
        "def load_files(path=\"\"):\n",
        "    files = []\n",
        "    file_list = glob.glob(os.path.join(path, '*.mp3'))\n",
        "    no_translation = []\n",
        "    progress_bar = tqdm(file_list, desc=\"Loading files\", position=0)\n",
        "    for filename in progress_bar:\n",
        "        try:\n",
        "            file = filename.split(\"/\")\n",
        "            file = file[len(file) - 1].split(\".\")[0]\n",
        "            term = file.split(\"_\")\n",
        "            english = term[0]\n",
        "            translation = term[1] if len(term) > 1 else None\n",
        "            x, sr = librosa.load(filename, sr=22050)\n",
        "            if translation is None:\n",
        "                no_translation.append(os.path.basename(filename))\n",
        "                #os.remove(filename)\n",
        "            else:\n",
        "                files.append([x, sr, filename, english, translation])\n",
        "            progress_bar.set_description(f\"Loading {os.path.basename(filename)}\")\n",
        "        except Exception as e:\n",
        "            print(f\"Error loading {filename}: {e}\")\n",
        "    progress_bar.close()\n",
        "\n",
        "    if no_translation:\n",
        "        print(\"Files without translation:\")\n",
        "        for filename in no_translation:\n",
        "            print(filename)\n",
        "\n",
        "    return files\n"
      ]
    },
    {
      "cell_type": "code",
      "execution_count": null,
      "metadata": {
        "colab": {
          "background_save": true
        },
        "id": "DX8xCY3yTPBq"
      },
      "outputs": [],
      "source": [
        "files=[]\n",
        "files=load_files(path=audio_path+\"/all_voices\")"
      ]
    },
    {
      "cell_type": "code",
      "execution_count": null,
      "metadata": {
        "colab": {
          "background_save": true
        },
        "id": "B3g-x0TPT-yu"
      },
      "outputs": [],
      "source": [
        "for file in tqdm(files):\n",
        "    file_folders=file[2].split('/')\n",
        "    filename=file_folders[len(file_folders)-1].split('.')[0]\n",
        "    \n",
        "    y, sr = librosa.load(file[2], sr=44100)\n",
        "    f0, voiced_flag, voiced_probs = librosa.pyin(y, fmin=librosa.note_to_hz('C2'), fmax=librosa.note_to_hz('C7'))\n",
        "    times = librosa.times_like(f0)\n",
        "    D = librosa.amplitude_to_db(np.abs(librosa.stft(y)), ref=np.max)\n",
        "\n",
        "\n",
        "    fig, ax = plt.subplots()\n",
        "    img = librosa.display.specshow(D)    \n",
        "    \n",
        "    fig.savefig(spectrogram_path+\"/\"+filename+\".jpg\")\n",
        "    # plt.show()\n",
        "    plt.clf()\n",
        "    \n",
        "    # break\n",
        "# plt.show()"
      ]
    }
  ],
  "metadata": {
    "accelerator": "GPU",
    "colab": {
      "provenance": [],
      "include_colab_link": true
    },
    "gpuClass": "standard",
    "kernelspec": {
      "display_name": "Python 3",
      "name": "python3"
    },
    "language_info": {
      "name": "python"
    }
  },
  "nbformat": 4,
  "nbformat_minor": 0
}