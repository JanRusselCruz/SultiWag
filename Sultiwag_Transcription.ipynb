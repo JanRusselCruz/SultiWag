{
  "nbformat": 4,
  "nbformat_minor": 0,
  "metadata": {
    "colab": {
      "provenance": [],
      "include_colab_link": true
    },
    "kernelspec": {
      "name": "python3",
      "display_name": "Python 3"
    },
    "language_info": {
      "name": "python"
    },
    "accelerator": "GPU",
    "gpuClass": "standard"
  },
  "cells": [
    {
      "cell_type": "markdown",
      "metadata": {
        "id": "view-in-github",
        "colab_type": "text"
      },
      "source": [
        "<a href=\"https://colab.research.google.com/github/JanRusselCruz/SultiWag/blob/Source_Code/Sultiwag_Transcription.ipynb\" target=\"_parent\"><img src=\"https://colab.research.google.com/assets/colab-badge.svg\" alt=\"Open In Colab\"/></a>"
      ]
    },
    {
      "cell_type": "markdown",
      "source": [
        "#Imports"
      ],
      "metadata": {
        "id": "taH7W3hT9t_Y"
      }
    },
    {
      "cell_type": "code",
      "execution_count": null,
      "metadata": {
        "colab": {
          "base_uri": "https://localhost:8080/"
        },
        "id": "EwHVzWcF9sev",
        "outputId": "1fb96395-563f-499c-b301-d8ef4dcda076"
      },
      "outputs": [
        {
          "output_type": "stream",
          "name": "stdout",
          "text": [
            "Mounted at /content/gdrive/\n"
          ]
        }
      ],
      "source": [
        "# Mounting the google drive\n",
        "from google.colab import drive\n",
        "drive.mount('/content/gdrive/', force_remount=True)"
      ]
    },
    {
      "cell_type": "code",
      "source": [
        "# Importing the libraries\n",
        "import os\n",
        "import librosa.display\n",
        "import numpy as np\n",
        "import matplotlib.pyplot as plt\n",
        "import glob\n",
        "from tqdm import tqdm\n",
        "from PIL import Image\n",
        "import pandas as pd\n",
        "import csv\n",
        "import numpy as np\n",
        "from sklearn.metrics import accuracy_score, precision_score, recall_score, f1_score\n",
        "\n",
        "import tensorflow\n",
        "from tensorflow import keras\n",
        "from tensorflow.keras.utils import to_categorical\n",
        "from tensorflow.keras.models import Sequential\n",
        "from tensorflow.keras.layers import Conv2D\n",
        "from tensorflow.keras.layers import Conv1D\n",
        "from tensorflow.keras.layers import MaxPooling2D\n",
        "from tensorflow.keras.layers import Dense\n",
        "from tensorflow.keras.layers import Flatten\n",
        "from tensorflow.keras.optimizers import SGD\n",
        "from tensorflow.keras.layers import Dropout\n",
        "from sklearn.preprocessing import LabelEncoder\n",
        "from sklearn.model_selection import train_test_split\n",
        "import tensorflow as tf\n",
        "from PIL import Image, ImageChops\n",
        "import time"
      ],
      "metadata": {
        "id": "MUbv3SMW-EJV"
      },
      "execution_count": null,
      "outputs": []
    },
    {
      "cell_type": "markdown",
      "source": [
        "#Paths"
      ],
      "metadata": {
        "id": "r2fS7I-5-JLn"
      }
    },
    {
      "cell_type": "code",
      "source": [
        "# Assigning the SpectogramCMK directory to variable path\n",
        "path = \"/content/gdrive/MyDrive/SultiWag/AudioFiles/02_Spectrograms/Consistent584_Spectrograms\"\n",
        "data_path = \"/content/gdrive/MyDrive/SultiWag/AudioFiles/02_Spectrograms/\"\n",
        "newdata_path = \"/content/gdrive/MyDrive/SultiWag/AudioFiles/05_Transcription/\"\n",
        "data_filename=\"\""
      ],
      "metadata": {
        "id": "lYTvjsWZ-GyV"
      },
      "execution_count": null,
      "outputs": []
    },
    {
      "cell_type": "markdown",
      "source": [
        "#Functions and Models"
      ],
      "metadata": {
        "id": "5RsntZD7-Qtp"
      }
    },
    {
      "cell_type": "code",
      "source": [
        "def create_numpy_from_spectrograms(path = \"\"):\n",
        "    numpy_array = []    \n",
        "    for filename in tqdm(sorted(glob.glob(os.path.join(path, '*.jpg')))):\n",
        "        if \"(R)\" in filename:\n",
        "            continue\n",
        "        img = Image.open(filename)\n",
        "        img = trim(img)\n",
        "        h, w = img.size\n",
        "        tmp_img = np.array(img)        \n",
        "        np_img = []\n",
        "        np_img = tmp_img[round(h/2)-1:h-1]\n",
        "        file = filename.split(\"/\")[-1].split(\".\")[0]  # get the file name without the path and extension\n",
        "        term = file.split(\"_\")  # split the file name into words\n",
        "        english = term[0]  # the first word is the English word\n",
        "        translation = term[1]  # the second word is the translation\n",
        "        if len(term) < 3:\n",
        "            translation_language = \"\"  # no suffix, set language code to empty string\n",
        "        else:\n",
        "            translation_language = term[2].split(\"(\")[-1].split(\")\")[0]  # extract the language code from the third word\n",
        "            translation = term[1].replace(term[2], \"\")  # remove the language code from the second word\n",
        "            translation = f\"{translation}({translation_language})\"  # add the language code to the second word\n",
        "        translation_language='cebuano'\n",
        "        if('(M' in translation):\n",
        "            translation_language='manobo'\n",
        "        elif('(K' in translation):\n",
        "            translation_language='kagan'\n",
        "        # np_img_flipped = np.fliplr(np_img)  # flip the spectrogram horizontally\n",
        "        numpy_array.append([english, translation, translation_language, np_img/255])\n",
        "        # numpy_array.append([english, translation, translation_language, np_img_flipped/255])\n",
        "    \n",
        "    # numpy_array.sort(key=lambda x: x[2]) # sort by translation language\n",
        "    # alternating_array = []\n",
        "    # manobo_array = []\n",
        "    # kagan_array = []\n",
        "    # cebuano_array = []\n",
        "    # for item in numpy_array:\n",
        "    #     if item[2] == 'manobo':\n",
        "    #         manobo_array.append(item)\n",
        "    #     elif item[2] == 'kagan':\n",
        "    #         kagan_array.append(item)\n",
        "    #     else:\n",
        "    #         cebuano_array.append(item)\n",
        "    # max_len = max(len(manobo_array), len(kagan_array), len(cebuano_array))\n",
        "    # for i in range(max_len):\n",
        "    #     if i < len(manobo_array):\n",
        "    #         alternating_array.append(manobo_array[i])\n",
        "    #     if i < len(kagan_array):\n",
        "    #         alternating_array.append(kagan_array[i])\n",
        "    #     if i < len(cebuano_array):\n",
        "    #         alternating_array.append(cebuano_array[i])\n",
        "    \n",
        "    # np.save(\"data.npy\", alternating_array)\n",
        "    # return alternating_array\n",
        "    return numpy_array"
      ],
      "metadata": {
        "id": "24aKbIdO_Hbm"
      },
      "execution_count": null,
      "outputs": []
    },
    {
      "cell_type": "code",
      "source": [
        "# Trimming the white spaces of a spectrogram\n",
        "def trim(im):\n",
        "    bg = Image.new(im.mode, im.size, im.getpixel((0,0)))\n",
        "    diff = ImageChops.difference(im, bg)\n",
        "    diff = ImageChops.add(diff, diff, 2.0, -100)\n",
        "    bbox = diff.getbbox()\n",
        "    if bbox:\n",
        "        return im.crop(bbox)"
      ],
      "metadata": {
        "id": "aRCj_FS3_Khp"
      },
      "execution_count": null,
      "outputs": []
    },
    {
      "cell_type": "code",
      "source": [
        "# Function to load the numpy array\n",
        "\n",
        "def load_data(filename=\"\"):\n",
        "    spectrograms = []    \n",
        "    \n",
        "    data = np.load(newdata_path + \"data_20230315-062845.npy\", allow_pickle=True)\n",
        "    flip = []\n",
        "\n",
        "    # NOT NEEDED KAY NAANAI FLIPPED NA DATAS\n",
        "    #for a in range(len(data)):\n",
        "     # eng = data[a,0]\n",
        "      #tran = data[a,1]\n",
        "     # trans = data[0,2]\n",
        "      #ima = np.flip(data[a,3])\n",
        "\n",
        "      #flip.append([eng,tran,trans,ima])\n",
        "      #np.save(\"data2.npy\", flip)\n",
        "    \n",
        "    return data"
      ],
      "metadata": {
        "id": "-iAPKSCo_P7N"
      },
      "execution_count": null,
      "outputs": []
    },
    {
      "cell_type": "markdown",
      "source": [
        "#Define Models"
      ],
      "metadata": {
        "id": "a4J3wBCf_Q5k"
      }
    },
    {
      "cell_type": "code",
      "source": [
        "# Define Convolutional Neural Network model\n",
        "def define_model():\n",
        "    model = Sequential()    \n",
        "    model.add(Conv2D(32, (3, 3), activation='relu', kernel_initializer='he_uniform', input_shape=(51, 336, 3)))\n",
        "    model.add(MaxPooling2D((2, 2)))\n",
        "    model.add(Conv1D(24, 10, activation='relu', kernel_initializer='he_uniform'))\n",
        "    model.add(MaxPooling2D((2, 2)))\n",
        "    model.add(Conv1D(12, 10, activation='relu', kernel_initializer='he_uniform'))\n",
        "    model.add(Conv1D(5, 11, activation='relu', kernel_initializer='he_uniform'))\n",
        "    model.add(Flatten())\n",
        "    model.add(Dense(100, activation='relu', kernel_initializer='he_uniform'))\n",
        "    model.add(Dense(10810, activation='softmax'))\n",
        "    \n",
        "\t# Compile model\n",
        "    opt = SGD(learning_rate=0.01, momentum=0.9)\n",
        "    model.compile(optimizer=opt, loss='categorical_crossentropy', metrics=['accuracy'])\n",
        "    return model"
      ],
      "metadata": {
        "id": "AbtvnGm__WqN"
      },
      "execution_count": null,
      "outputs": []
    },
    {
      "cell_type": "code",
      "source": [
        "from keras.layers import BatchNormalization, Dropout\n",
        "from keras.optimizers import Adam\n",
        "\n",
        "def define_model2():\n",
        "    model = Sequential()\n",
        "    model.add(Conv2D(64, (3, 3), activation='relu', kernel_initializer='he_uniform', input_shape=(51, 336, 3)))\n",
        "    model.add(MaxPooling2D((2, 2)))\n",
        "    model.add(BatchNormalization())\n",
        "    model.add(Conv2D(32, (3, 3), activation='relu', kernel_initializer='he_uniform'))\n",
        "    model.add(MaxPooling2D((2, 2)))\n",
        "    model.add(BatchNormalization())\n",
        "    model.add(Conv2D(16, (3, 3), activation='relu', kernel_initializer='he_uniform'))\n",
        "    model.add(MaxPooling2D((2, 2)))\n",
        "    model.add(BatchNormalization())\n",
        "    model.add(Flatten())\n",
        "    model.add(Dense(128, activation='relu', kernel_initializer='he_uniform'))\n",
        "    model.add(Dropout(0.5))\n",
        "    model.add(Dense(64, activation='relu', kernel_initializer='he_uniform'))\n",
        "    model.add(Dropout(0.5))\n",
        "    model.add(Dense(585, activation='softmax'))\n",
        "    \n",
        "    opt = SGD(learning_rate=0.05, momentum = 0.9)\n",
        "    model.compile(optimizer=opt, loss='categorical_crossentropy', metrics=['accuracy'])\n",
        "    \n",
        "    return model\n"
      ],
      "metadata": {
        "id": "0ewwbFFh_Yuk"
      },
      "execution_count": null,
      "outputs": []
    },
    {
      "cell_type": "code",
      "source": [
        "def define_model3():\n",
        "    model = Sequential()    \n",
        "    model.add(Conv2D(32, (3, 3), activation='relu', kernel_initializer='he_uniform', input_shape=(51, 336, 3)))\n",
        "    model.add(MaxPooling2D((2, 2)))\n",
        "    model.add(Dropout(0.4))\n",
        "    model.add(Conv1D(24, 10, activation='relu', kernel_initializer='he_uniform'))\n",
        "    model.add(MaxPooling2D((2, 2)))\n",
        "    model.add(Dropout(0.4))\n",
        "    model.add(Conv1D(12, 10, activation='relu', kernel_initializer='he_uniform'))\n",
        "    model.add(Conv1D(5, 11, activation='relu', kernel_initializer='he_uniform'))\n",
        "    model.add(Flatten())\n",
        "    model.add(Dense(100, activation='relu', kernel_initializer='he_uniform'))\n",
        "    model.add(Dropout(0.2))\n",
        "    model.add(Dense(585, activation='softmax'))\n",
        "\t# compile model\n",
        "    opt = SGD(learning_rate=0.01, momentum=0.9)\n",
        "    model.compile(optimizer=opt, loss='categorical_crossentropy', metrics=['accuracy'])\n",
        "    return model"
      ],
      "metadata": {
        "id": "x-U0ge8W_Zxf"
      },
      "execution_count": null,
      "outputs": []
    },
    {
      "cell_type": "code",
      "source": [
        "def define_model1():\n",
        "  model = Sequential()\n",
        "  model.add(Conv2D(32, (3,3), activation='relu', input_shape=(51,336,3)))\n",
        "  model.add(MaxPooling2D((2,2)))\n",
        "  model.add(Conv2D(64, (3,3), activation='relu'))\n",
        "  model.add(MaxPooling2D((2,2)))\n",
        "  model.add(Conv2D(128, (3,3), activation='relu'))\n",
        "  model.add(MaxPooling2D((2,2)))\n",
        "  model.add(Conv2D(256, (3,3), activation='relu'))\n",
        "  model.add(MaxPooling2D((2,2)))\n",
        "  model.add(Dropout(0.25))\n",
        "  model.add(Flatten())\n",
        "  model.add(Dropout(0.5))\n",
        "  model.add(Dense(320, activation='relu', kernel_initializer='he_uniform'))\n",
        "  model.add(Dropout(0.5))\n",
        "  model.add(Dense(585, activation='relu', kernel_initializer='he_uniform'))\n",
        "  model.compile(optimizer='adam', loss='sparse_categorical_crossentropy', metrics=['accuracy'])\n",
        "\n",
        "  return model"
      ],
      "metadata": {
        "id": "WrQ-idRJf_iO"
      },
      "execution_count": null,
      "outputs": []
    },
    {
      "cell_type": "code",
      "source": [
        "from keras.callbacks import EarlyStopping\n",
        "from keras.layers import BatchNormalization, Dropout\n",
        "from keras.optimizers import Adam\n",
        "\n",
        "def define_model5():\n",
        "    model = Sequential()\n",
        "    model.add(Conv2D(32, (3, 3), activation='relu', kernel_initializer='he_uniform', input_shape=(51, 336, 3)))\n",
        "    model.add(MaxPooling2D((2, 2)))\n",
        "    model.add(BatchNormalization())\n",
        "    model.add(Conv2D(16, (3, 3), activation='relu', kernel_initializer='he_uniform'))\n",
        "    model.add(MaxPooling2D((2, 2)))\n",
        "    model.add(BatchNormalization())\n",
        "    model.add(Conv2D(8, (3, 3), activation='relu', kernel_initializer='he_uniform'))\n",
        "    model.add(MaxPooling2D((2, 2)))\n",
        "    model.add(BatchNormalization())\n",
        "    model.add(Flatten())\n",
        "    model.add(Dense(128, activation='relu', kernel_initializer='he_uniform'))\n",
        "    model.add(Dropout(0.7))\n",
        "    model.add(Dense(30, activation='relu', kernel_initializer='he_uniform'))\n",
        "    model.add(Dropout(0.7))\n",
        "    model.add(Dense(585, activation='softmax'))\n",
        "    \n",
        "    opt = Adam(learning_rate=0.001)\n",
        "    model.compile(optimizer=opt, loss='categorical_crossentropy', metrics=['accuracy'])\n",
        "    \n",
        "    es = EarlyStopping(monitor='val_loss', patience=5, verbose=1, mode='min')\n",
        "    \n",
        "    return model, es"
      ],
      "metadata": {
        "id": "GleayD4McWma"
      },
      "execution_count": null,
      "outputs": []
    },
    {
      "cell_type": "code",
      "source": [
        "def define_model6():\n",
        "  model = Sequential()\n",
        "  model.add(Conv2D(32, (3,3), activation='relu', input_shape=(51,336,3)))\n",
        "  model.add(MaxPooling2D((2,2)))\n",
        "  model.add(Conv2D(64, (3,3), activation='relu'))\n",
        "  model.add(MaxPooling2D((2,2)))\n",
        "  model.add(Conv2D(128, (3,3), activation='relu'))\n",
        "  model.add(MaxPooling2D((2,2)))\n",
        "  model.add(Conv2D(128, (3,3), activation='relu'))\n",
        "  model.add(MaxPooling2D((2,2)))\n",
        "  model.add(Flatten())\n",
        "  model.add(Dropout(0.5))\n",
        "  model.add(Dense(512, activation='relu'))\n",
        "  model.add(Dense(3, activation='softmax'))\n",
        "  model.compile(optimizer='adam', loss='sparse_categorical_crossentropy', metrics=['accuracy'])\n",
        "\n",
        "  return model"
      ],
      "metadata": {
        "id": "Mr7QtOKZ_eb9"
      },
      "execution_count": null,
      "outputs": []
    },
    {
      "cell_type": "code",
      "source": [
        "def define_model7():\n",
        "  input_shape = (51,336,3)\n",
        "  model = Sequential()\n",
        "  model.add(Conv2D(32, (3, 3), activation='relu', input_shape=input_shape))\n",
        "  model.add(MaxPooling2D((2, 2)))\n",
        "  model.add(Dropout(0.2))\n",
        "  model.add(Conv2D(64, (3, 3), activation='relu'))\n",
        "  model.add(MaxPooling2D((2, 2)))\n",
        "  model.add(Dropout(0.2))\n",
        "  model.add(Conv2D(64, (3, 3), activation='relu'))\n",
        "  model.add(Flatten())\n",
        "  model.add(Dense(64, activation='relu'))\n",
        "  model.add(Dropout(0.2))\n",
        "  model.add(Dense(32, activation='relu'))\n",
        "  model.add(Dense(24, activation='softmax'))"
      ],
      "metadata": {
        "id": "3WPEVC3M2ohb"
      },
      "execution_count": null,
      "outputs": []
    },
    {
      "cell_type": "markdown",
      "source": [
        "#Running the functions"
      ],
      "metadata": {
        "id": "gtjvk417_iVt"
      }
    },
    {
      "cell_type": "code",
      "source": [
        "data = create_numpy_from_spectrograms(path)"
      ],
      "metadata": {
        "colab": {
          "base_uri": "https://localhost:8080/"
        },
        "id": "1724CTzd_no1",
        "outputId": "83a3ecd9-a964-4dbf-af8f-d1c30603a1d1"
      },
      "execution_count": null,
      "outputs": [
        {
          "output_type": "stream",
          "name": "stderr",
          "text": [
            "0it [00:00, ?it/s]\n"
          ]
        }
      ]
    },
    {
      "cell_type": "code",
      "source": [
        "#Saving the numpy array to the drive\n",
        "\n",
        "timestr = time.strftime(\"%Y%m%d-%H%M%S\")\n",
        "data_filename=\"data_\"+timestr+\".npy\"\n",
        "np.save(newdata_path + 'data.npy',data)"
      ],
      "metadata": {
        "id": "SUC5JnDZ_yZI"
      },
      "execution_count": null,
      "outputs": []
    },
    {
      "cell_type": "code",
      "source": [
        "#Load the data\n",
        "\n",
        "data = load_data()"
      ],
      "metadata": {
        "id": "73cXRhxyA1WR"
      },
      "execution_count": null,
      "outputs": []
    },
    {
      "cell_type": "markdown",
      "source": [
        "#Loading the NPY files"
      ],
      "metadata": {
        "id": "Z2mAdsRoBAkb"
      }
    },
    {
      "cell_type": "code",
      "source": [
        "# Y_english = np.load(newdata_path+'Y_english.npy')\n",
        "# X = np.load(newdata_path+'X.npy')\n",
        "# Y_english_vec = np.load(newdata_path+'Y_english_vec.npy')\n",
        "Xtrain = np.load(newdata_path + 'dataTrainX.npy')\n",
        "Ytrain = np.load(newdata_path + 'dataTrainY.npy')\n",
        "Xtest = np.load(newdata_path + 'dataTestX.npy')\n",
        "Ytest = np.load(newdata_path + 'dataTestY.npy')\n",
        "Xvalid = np.load(newdata_path + 'dataValidX.npy')\n",
        "Yvalid = np.load(newdata_path + 'dataValidY.npy')"
      ],
      "metadata": {
        "id": "w2TsZcRiA7SD"
      },
      "execution_count": null,
      "outputs": []
    },
    {
      "cell_type": "markdown",
      "source": [
        "#Start Training"
      ],
      "metadata": {
        "id": "TG7fBcN3Bq0N"
      }
    },
    {
      "cell_type": "code",
      "source": [
        "model = define_model2()"
      ],
      "metadata": {
        "id": "z47b349HBvut"
      },
      "execution_count": null,
      "outputs": []
    },
    {
      "cell_type": "code",
      "source": [
        "model.compile(optimizer='adam',\n",
        "              loss=tensorflow.keras.losses.CategoricalCrossentropy(from_logits=False),\n",
        "              metrics=['accuracy'])\n",
        "\n",
        "translationmodel2 = model.fit(Xtrain, Ytrain, epochs=2000, validation_data=(Xvalid,Yvalid), batch_size=64)"
      ],
      "metadata": {
        "id": "GMFB70nCBxo0"
      },
      "execution_count": null,
      "outputs": []
    },
    {
      "cell_type": "code",
      "source": [
        "model.save('Transcription_Model.h5')"
      ],
      "metadata": {
        "id": "F_Y-EfJWtk3C"
      },
      "execution_count": null,
      "outputs": []
    },
    {
      "cell_type": "code",
      "source": [
        "from tensorflow.keras.models import load_model\n",
        "\n",
        "model2 = load_model('/content/gdrive/MyDrive/SultiWag/Models/Transcription_Model.h5')"
      ],
      "metadata": {
        "id": "sQU__ODmtz7d"
      },
      "execution_count": null,
      "outputs": []
    },
    {
      "cell_type": "code",
      "source": [
        "def load_recording_spectrograph(file=''):\n",
        "    y, sr = librosa.load(file, sr=44100)\n",
        "    f0, voiced_flag, voiced_probs = librosa.pyin(y, fmin=librosa.note_to_hz('C2'), fmax=librosa.note_to_hz('C7'))\n",
        "    times = librosa.times_like(f0)\n",
        "    D = librosa.amplitude_to_db(np.abs(librosa.stft(y)), ref=np.max)\n",
        "    fig, ax = plt.subplots()\n",
        "    img = librosa.display.specshow(D)  \n",
        "    fig.savefig(file+\".jpg\")\n",
        "    img2 = Image.open(file+\".jpg\")  \n",
        "    return img2"
      ],
      "metadata": {
        "id": "pkfyIgb8uA8F"
      },
      "execution_count": null,
      "outputs": []
    },
    {
      "cell_type": "code",
      "source": [
        "data_path = \"/content/gdrive/MyDrive/SultiWag/AudioFiles/01_SlicedAudio/Cebuano/Cebuano_All_Letters\""
      ],
      "metadata": {
        "id": "U3wekuXDuBnz"
      },
      "execution_count": null,
      "outputs": []
    },
    {
      "cell_type": "code",
      "source": [
        "chest = load_recording_spectrograph(data_path+\"/haughty_hambog(C).mp3\")"
      ],
      "metadata": {
        "colab": {
          "base_uri": "https://localhost:8080/",
          "height": 252
        },
        "id": "s9YwZXrLuDcD",
        "outputId": "14106f07-e22e-4b92-d40c-037f794baff3"
      },
      "execution_count": null,
      "outputs": [
        {
          "output_type": "display_data",
          "data": {
            "text/plain": [
              "<Figure size 432x288 with 1 Axes>"
            ],
            "image/png": "[encoded data removed]"
          },
          "metadata": {}
        }
      ]
    },
    {
      "cell_type": "code",
      "source": [
        "def trim(im):\n",
        "    bg = Image.new(im.mode, im.size, im.getpixel((0,0)))\n",
        "    diff = ImageChops.difference(im, bg)\n",
        "    diff = ImageChops.add(diff, diff, 2.0, -100)\n",
        "    bbox = diff.getbbox()\n",
        "    if bbox:\n",
        "        return im.crop(bbox)"
      ],
      "metadata": {
        "id": "RWX6TyhhuFj5"
      },
      "execution_count": null,
      "outputs": []
    },
    {
      "cell_type": "code",
      "source": [
        "img=trim(chest)\n",
        "h, w = img.size\n",
        "tmp_img = np.array(img)\n",
        "np_img = []\n",
        "np_img = tmp_img[round(h/2)-1:h-1]   "
      ],
      "metadata": {
        "id": "_vQ9hkVeuIOS"
      },
      "execution_count": null,
      "outputs": []
    },
    {
      "cell_type": "code",
      "source": [
        "plt.imshow(np_img)"
      ],
      "metadata": {
        "colab": {
          "base_uri": "https://localhost:8080/",
          "height": 119
        },
        "id": "nTtvFlFFuLMc",
        "outputId": "d6385ecb-fbbb-48f7-98fd-4efdcf0468a0"
      },
      "execution_count": null,
      "outputs": [
        {
          "output_type": "execute_result",
          "data": {
            "text/plain": [
              "<matplotlib.image.AxesImage at 0x7f463eccf970>"
            ]
          },
          "metadata": {},
          "execution_count": 32
        },
        {
          "output_type": "display_data",
          "data": {
            "text/plain": [
              "<Figure size 432x288 with 1 Axes>"
            ],
            "image/png": "[encoded data removed]"
          },
          "metadata": {
            "needs_background": "light"
          }
        }
      ]
    },
    {
      "cell_type": "code",
      "source": [
        "# shape when training/testing = [batch size, img_height, img_width, img_channels]\n",
        "test_X1 = np_img\n",
        "test_X1 = np.expand_dims(test_X1, axis=0)\n",
        "print(test_X1.shape)\n",
        "prediction  = model2.predict(test_X1)"
      ],
      "metadata": {
        "colab": {
          "base_uri": "https://localhost:8080/"
        },
        "id": "QNNabXFkuO6E",
        "outputId": "7079981f-88c6-4852-92c7-6efad2a64eb1"
      },
      "execution_count": null,
      "outputs": [
        {
          "output_type": "stream",
          "name": "stdout",
          "text": [
            "(1, 51, 336, 3)\n",
            "1/1 [==============================] - 0s 359ms/step\n"
          ]
        }
      ]
    },
    {
      "cell_type": "code",
      "source": [
        "classes_x=np.argmax(prediction,axis=1)\n",
        "classes_x"
      ],
      "metadata": {
        "id": "MTZkQLXwuRT0"
      },
      "execution_count": null,
      "outputs": []
    },
    {
      "cell_type": "code",
      "source": [
        "print(Ytest)"
      ],
      "metadata": {
        "colab": {
          "base_uri": "https://localhost:8080/"
        },
        "id": "9W60zn4O1oig",
        "outputId": "fdf3b049-980e-4de7-945d-3b483c1df6c7"
      },
      "execution_count": null,
      "outputs": [
        {
          "output_type": "stream",
          "name": "stdout",
          "text": [
            "[[1 0 0 ... 0 0 0]\n",
            " [1 0 0 ... 0 0 0]\n",
            " [1 0 0 ... 0 0 0]\n",
            " ...\n",
            " [0 0 0 ... 0 0 1]\n",
            " [0 0 0 ... 0 0 1]\n",
            " [0 0 0 ... 0 0 1]]\n"
          ]
        }
      ]
    },
    {
      "cell_type": "code",
      "source": [
        "# Import necessary libraries\n",
        "import numpy as np\n",
        "from sklearn.metrics import accuracy_score, precision_score, recall_score, f1_score\n",
        "\n",
        "# Load the trained model\n",
        "model = define_model2()  # Define the model here\n",
        "\n",
        "# Load the test data\n",
        "test_y = np.argmax(Ytest, axis=1)\n",
        "\n",
        "# Make predictions on the test data\n",
        "y_pred = model.predict(Xtest)\n",
        "\n",
        "classes_x = np.argmax(y_pred, axis=1)  # Use y_pred to calculate the class labels\n",
        "\n",
        "\n",
        "# Evaluate the predictions\n",
        "accuracy = accuracy_score(test_y, classes_x)\n",
        "precision = precision_score(test_y, classes_x, average='weighted')\n",
        "recall = recall_score(test_y, classes_x, average='weighted')\n",
        "f1 = f1_score(test_y, classes_x, average='weighted')\n",
        "\n",
        "print(\"Accuracy: {:.2f}%\".format(accuracy * 100))\n",
        "print(\"Precision: {:.2f}%\".format(precision * 100))\n",
        "print(\"Recall: {:.2f}%\".format(recall * 100))\n",
        "print(\"F1-Score: {:.2f}%\".format(f1 * 100))"
      ],
      "metadata": {
        "colab": {
          "base_uri": "https://localhost:8080/"
        },
        "id": "YpgQmX-bpeFu",
        "outputId": "8736fe00-50a9-45e2-a269-edffd89ac8f3"
      },
      "execution_count": null,
      "outputs": [
        {
          "output_type": "stream",
          "name": "stdout",
          "text": [
            "55/55 [==============================] - 1s 9ms/step\n",
            "Accuracy: 0.29%\n",
            "Precision: 0.03%\n",
            "Recall: 0.29%\n",
            "F1-Score: 0.04%\n"
          ]
        },
        {
          "output_type": "stream",
          "name": "stderr",
          "text": [
            "/usr/local/lib/python3.9/dist-packages/sklearn/metrics/_classification.py:1344: UndefinedMetricWarning: Precision is ill-defined and being set to 0.0 in labels with no predicted samples. Use `zero_division` parameter to control this behavior.\n",
            "  _warn_prf(average, modifier, msg_start, len(result))\n"
          ]
        }
      ]
    },
    {
      "cell_type": "code",
      "source": [],
      "metadata": {
        "id": "ru-Ng31gs_Zi"
      },
      "execution_count": null,
      "outputs": []
    }
  ]
}